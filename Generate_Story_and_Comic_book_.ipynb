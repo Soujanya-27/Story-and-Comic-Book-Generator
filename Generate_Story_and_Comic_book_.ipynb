{
  "nbformat": 4,
  "nbformat_minor": 0,
  "metadata": {
    "colab": {
      "provenance": [],
      "include_colab_link": true
    },
    "kernelspec": {
      "name": "python3",
      "display_name": "Python 3"
    },
    "language_info": {
      "name": "python"
    }
  },
  "cells": [
    {
      "cell_type": "markdown",
      "metadata": {
        "id": "view-in-github",
        "colab_type": "text"
      },
      "source": [
        "<a href=\"https://colab.research.google.com/github/Soujanya-27/Story-and-Comic-Book-Generator/blob/main/Generate_Story_and_Comic_book_.ipynb\" target=\"_parent\"><img src=\"https://colab.research.google.com/assets/colab-badge.svg\" alt=\"Open In Colab\"/></a>"
      ]
    },
    {
      "cell_type": "markdown",
      "source": [
        "<h1>Story and comic book writer, using Langchain, OpenAI (and Replica)</h1>"
      ],
      "metadata": {
        "id": "M5l7xn_FX7El"
      }
    },
    {
      "cell_type": "markdown",
      "source": [
        "![ferrer_transforming_ai_langchain_text_data_game_changer_7.png](data:image/png;base64,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)"
      ],
      "metadata": {
        "id": "8YYWwAYwXzcR"
      }
    },
    {
      "cell_type": "code",
      "execution_count": null,
      "metadata": {
        "id": "1zC02WOEH1xa"
      },
      "outputs": [],
      "source": [
        "!apt-get update\n",
        "!apt-get install -y libreoffice\n",
        "!pip install openai tiktoken langchain replicate kor python-docx unoconv"
      ]
    },
    {
      "cell_type": "code",
      "source": [
        "import os\n",
        "\n",
        "with open('/content/openai-api-key-demo2.txt', 'r') as fp:\n",
        "  openai_api_key = fp.read()\n",
        "\n",
        "\n",
        "with open('/content/replicate-ai-default-key.txt', 'r') as fp2:\n",
        "  rep_api_key = fp2.read()\n",
        "\n",
        "os.environ[\"REPLICATE_API_TOKEN\"] = rep_api_key\n",
        "os.environ[\"OPENAI_API_KEY\"] = openai_api_key\n",
        "os.environ[\"OPENAI_ORGANIZATION\"] = \"org-lKHvypYFEpX1fu0oHg0wLGnb\"\n",
        "# del os.environ[\"OPENAI_ORGANIZATION\"]"
      ],
      "metadata": {
        "id": "64LQvPOwIEBu"
      },
      "execution_count": null,
      "outputs": []
    },
    {
      "cell_type": "code",
      "source": [
        "from tqdm import tqdm\n",
        "from PIL import Image\n",
        "import requests\n",
        "from io import BytesIO\n",
        "import cv2\n",
        "from google.colab.patches import cv2_imshow\n",
        "\n",
        "from docx import Document\n",
        "from docx.shared import Inches, Pt\n",
        "from docx.enum.text import WD_PARAGRAPH_ALIGNMENT\n",
        "\n",
        "import subprocess\n",
        "\n",
        "from langchain import PromptTemplate, LLMChain\n",
        "from langchain.llms import Replicate, OpenAI"
      ],
      "metadata": {
        "id": "S9f5TIXaIjT1"
      },
      "execution_count": null,
      "outputs": []
    },
    {
      "cell_type": "code",
      "source": [
        "pip install langchain-community"
      ],
      "metadata": {
        "id": "CaocgTP5AdLa"
      },
      "execution_count": null,
      "outputs": []
    },
    {
      "cell_type": "code",
      "source": [
        "template = \"\"\"Write a short story about {topic}.\n",
        "First generate a title for the story and a cover picture. Make the story in a narrative format.\n",
        "Divide it into 5 chapters. Limit each chapter to 200 words. Also generate a prompt for an image generation model at the end of each chapter.\n",
        "Always generate the output in following format:\n",
        "\n",
        "Title: Main title of the story\n",
        "Cover Image: Prompt for image generation model\n",
        "Chapter 1:\n",
        "Title: Title of chapter 1\n",
        "Text: Story text of chapter 1\n",
        "Image Prompt: Prompt for image generation model\n",
        "Chapter 2:\n",
        "Title: Title of chapter 2\n",
        "Text: Story text of chapter 2\n",
        "Image Prompt: Prompt for image generation model\n",
        "Chapter n:\n",
        "Title: Title of chapter n\n",
        "Text: Story text of chapter n\n",
        "Image Prompt: Prompt for image generation model\n",
        "\"\"\"\n",
        "\n",
        "prompt = PromptTemplate(template=(template), input_variables=[\"topic\"])"
      ],
      "metadata": {
        "id": "2BpIMA7sIsjt"
      },
      "execution_count": null,
      "outputs": []
    },
    {
      "cell_type": "code",
      "source": [
        "llm = OpenAI(temperature=0.7, model=\"gpt-3.5-turbo-instruct\", max_tokens=2000)\n",
        "llm_chain = LLMChain(prompt=prompt, llm=llm)"
      ],
      "metadata": {
        "id": "yca5LnPiIvNt"
      },
      "execution_count": null,
      "outputs": []
    },
    {
      "cell_type": "code",
      "source": [
        "## ENTER YOUR TOPIC HERE\n",
        "topic_text = input()\n",
        "\n",
        "result = llm_chain.run(\n",
        "    topic_text\n",
        ")"
      ],
      "metadata": {
        "id": "uEXF6rmeI0Sl"
      },
      "execution_count": null,
      "outputs": []
    },
    {
      "cell_type": "code",
      "source": [
        "result"
      ],
      "metadata": {
        "id": "ywaEym44JtLu"
      },
      "execution_count": null,
      "outputs": []
    },
    {
      "cell_type": "code",
      "source": [
        "with open(\"story.txt\", 'w+') as file:\n",
        "    file.write(result)"
      ],
      "metadata": {
        "id": "G2K4seVNJ-YZ"
      },
      "execution_count": null,
      "outputs": []
    },
    {
      "cell_type": "code",
      "source": [
        "with open('story.txt', 'r') as file:\n",
        "    lines = file.readlines()\n",
        "\n",
        "story = {}\n",
        "is_chapter = False\n",
        "\n",
        "chapters = []\n",
        "chapter_dict = {}\n",
        "\n",
        "for line in lines:\n",
        "\n",
        "\n",
        "\n",
        "    line_sm = line.lower().strip()\n",
        "\n",
        "    if 'title' in line_sm and not is_chapter:\n",
        "        story['title'] = line.split(':')[-1].strip()\n",
        "\n",
        "    if 'title' in line_sm and is_chapter:\n",
        "        chapter_dict['title'] = line.split(':')[-1].strip()\n",
        "\n",
        "    if 'cover image' in line_sm:\n",
        "        story['cover_image'] = line.split(':')[-1].strip()\n",
        "\n",
        "    if 'text' in line_sm:\n",
        "        chapter_dict['text'] = line.split(':')[-1].strip()\n",
        "\n",
        "    if 'image prompt' in line_sm:\n",
        "        chapter_dict['image_prompt'] = line.split(':')[-1].strip()\n",
        "        chapters.append(chapter_dict)\n",
        "\n",
        "    if 'chapter' in line_sm:\n",
        "        is_chapter = True\n",
        "        chapter_dict = {}\n",
        "        continue\n",
        "\n",
        "story['chapters'] = chapters\n",
        "story"
      ],
      "metadata": {
        "id": "EQ3XvQc5J-zc"
      },
      "execution_count": null,
      "outputs": []
    },
    {
      "cell_type": "code",
      "source": [
        "text2image = Replicate(\n",
        "    model=\"stability-ai/stable-diffusion:db21e45d3f7023abc2a46ee38a23973f6dce16bb082a930b0c49861f96d1e5bf\",\n",
        "    inputs={\"image_dimensions\": \"512x512\"},\n",
        ")"
      ],
      "metadata": {
        "id": "MJFRIs5n-sMV"
      },
      "execution_count": null,
      "outputs": []
    },
    {
      "cell_type": "code",
      "source": [
        "style_prompts = \" Graphic Novel, 4K, Global Illumination, Dreamy\""
      ],
      "metadata": {
        "id": "Zo69rzF6KEU8"
      },
      "execution_count": null,
      "outputs": []
    },
    {
      "cell_type": "code",
      "source": [
        "img_path = './images/'\n",
        "\n",
        "if not os.path.exists(img_path):\n",
        "    os.makedirs(img_path)\n",
        "\n",
        "generated_images_dict = {}\n",
        "image_prompts_dict = story\n",
        "print(image_prompts_dict)\n",
        "cover_image_prompt = image_prompts_dict[\"cover_image\"]\n",
        "\n",
        "\n",
        "# style of image\n",
        "cover_image_prompt += style_prompts\n",
        "\n",
        "# execute image generation pipeline\n",
        "image_output = text2image(cover_image_prompt)\n",
        "\n",
        "response = requests.get(image_output)\n",
        "image_output = Image.open(BytesIO(response.content))\n",
        "\n",
        "cover_path = os.path.join(img_path, 'cover_image.jpg')\n",
        "image_output.save(cover_path)\n",
        "\n",
        "generated_images_dict[\"cover_image\"] = cover_path\n",
        "\n",
        "chapter_images = []\n",
        "for idx, chapter_image_prompts in tqdm(enumerate(image_prompts_dict['chapters'])):\n",
        "    chapter_image_prompts = chapter_image_prompts['image_prompt']\n",
        "    chapter_image_prompts += style_prompts\n",
        "    image_output = text2image(chapter_image_prompts)\n",
        "    response = requests.get(image_output)\n",
        "    image_output = Image.open(BytesIO(response.content))\n",
        "    chapter_path = os.path.join(img_path, f'chapter_{idx+1}.jpg')\n",
        "    image_output.save(chapter_path)\n",
        "    chapter_images.append(chapter_path)\n",
        "\n",
        "generated_images_dict[\"chapter_images\"] = chapter_images\n",
        "generated_images_dict\n",
        "{'cover_image': './images/cover_image.jpg',\n",
        " 'chapter_images': ['./images/chapter_1.jpg',\n",
        "  './images/chapter_2.jpg',\n",
        "  './images/chapter_3.jpg',\n",
        "  './images/chapter_4.jpg',\n",
        "  './images/chapter_5.jpg']}"
      ],
      "metadata": {
        "id": "_Rogr37mKFYc"
      },
      "execution_count": null,
      "outputs": []
    }
  ]
}